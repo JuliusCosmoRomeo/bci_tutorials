{
 "cells": [
  {
   "cell_type": "markdown",
   "metadata": {},
   "source": [
    "### General rules:\n",
    " * For all figures that you generate, remember to add meaningful labels to the axes (including units), and provide a legend and colorbar, if applicable.\n",
    " * Do not hard code constants, like number of samples, number of channels, etc in your program. These values should always be determined from the given data. This way, you can easily use the code to analyse other data sets.\n",
    " * Do not use high-level functions from toolboxes like scikit-learn.\n",
    " * Before submitting, check your code by executing: Kernel -> Restart & run all.\n",
    " * Replace *Template* by your *FirstnameLastname* in the filename, or by *Lastname1Lastname2* if you work in pairs."
   ]
  },
  {
   "cell_type": "markdown",
   "metadata": {},
   "source": [
    "# BCI-IL WS 2018/2019 - Exercise Sheet #02"
   ]
  },
  {
   "cell_type": "markdown",
   "metadata": {},
   "source": [
    "#### Name(s):"
   ]
  },
  {
   "cell_type": "code",
   "execution_count": 1,
   "metadata": {},
   "outputs": [],
   "source": [
    "% matplotlib inline\n",
    "\n",
    "import numpy as np\n",
    "import scipy as sp\n",
    "from matplotlib import pyplot as plt\n",
    "\n",
    "import bci_minitoolbox as bci"
   ]
  },
  {
   "cell_type": "markdown",
   "metadata": {},
   "source": [
    "## Preparation: Loading Data"
   ]
  },
  {
   "cell_type": "code",
   "execution_count": 2,
   "metadata": {},
   "outputs": [],
   "source": [
    "fname = 'erp_hexVPsag.npz'\n",
    "cnt, fs, clab, mnt, mrk_pos, mrk_class, mrk_className = bci.load_data(fname)"
   ]
  },
  {
   "cell_type": "markdown",
   "metadata": {},
   "source": [
    "## Exercise 1: Scatter Plot of 2D Features  (8 points)"
   ]
  },
  {
   "cell_type": "markdown",
   "metadata": {},
   "source": [
    "Make a scatter plot of the two distributions - *targets* and *nontargets*, one dot for each trial. On the `x`-axis, plot the value of channel Cz at `t` = 380 ms, and at the `y`-axis the value of PO3 at `t` = 300 ms. *(You may refer to the results of sheet 01 for the reason of this choice.)*\n",
    "Draw for both distributions the two principal axes, with the lengths of the axes being the standard deviation of the data in that direction. \n",
    "Draw also the corresponding ellipses. **Hint:** You can get that with a transformation of the unit circle as on the slide *Illustration of Multiplication ...*."
   ]
  },
  {
   "cell_type": "code",
   "execution_count": 39,
   "metadata": {},
   "outputs": [
    {
     "data": {
      "text/plain": [
       "1200"
      ]
     },
     "execution_count": 39,
     "metadata": {},
     "output_type": "execute_result"
    }
   ],
   "source": [
    "chans = ['Cz', 'PO3']\n",
    "ival= [-100, 1000]\n",
    "ref_ival= [-100, 0]\n",
    "\n",
    "# Segment continuous data into epochs:\n",
    "epo, epo_t = bci.makeepochs(cnt, fs, mrk_pos, ival)\n",
    "# Baseline correction:\n",
    "epo = bci.baseline(epo, epo_t, ref_ival)\n",
    "\n",
    "time_mask_pos_cz = epo_t ==380\n",
    "time_mask_pos_po3 = epo_t ==300\n",
    "\n",
    "epo_cz = epo[time_mask_pos_cz, clab.index(chans[0]), :]\n",
    "epo_po3 = epo[time_mask_pos_po3, clab.index(chans[1]), :]\n",
    "\n",
    "\n",
    "cz_values_targets = np.average(epo_cz[:,mrk_class==1], axis=1)\n",
    "po3_values_targets = np.average(epo_po3[:,mrk_class==1], axis=1)\n",
    "\n",
    "plt.scatter(cz_values_targets,po3_values_targets)\n",
    "\n",
    "cz_values_no_targets = np.average(epo_cz[:,mrk_class==0], axis=1)\n",
    "po3_values_no_targets = np.average(epo_po3[:,mrk_class==0],axis=1)\n",
    "\n",
    "plt.scatter(cz_values_no_targets,po3_values_no_targets)\n",
    "plt.xlabel(\"potential in Cz [µV] 380 ms after stimulus\")\n",
    "plt.ylabel(\"potential in PO3 [µV] 300 ms after stimulus\")\n",
    "plt.title(\"Scatter plot of data from channels cz and po3\")\n",
    "plt.show()\n",
    "\n",
    "\n",
    "\n",
    "#len(mrk_class)\n",
    "\n",
    "#len(epo_cz[0])\n"
   ]
  },
  {
   "cell_type": "markdown",
   "metadata": {},
   "source": [
    "## Exercise 2: Covariances and Eigenvalues  (7 points)"
   ]
  },
  {
   "cell_type": "markdown",
   "metadata": {
    "collapsed": true
   },
   "source": [
    "Calculate the channelwise covariance matrices (channel `x` channel) of the data for time point 380 ms for both classes (`np.cov`) and visualize them (`pl.imshow`). \n",
    "Perform an Eigenvalue decomposition (`np.linalg.eigh`) of the covariance matrices and plot (again class-wise) the eigenvalue spectrum. Then determine the four principle components (Eigenvectors) for each class that correspond to the largest Eigenvalues and display them as scalp maps (function `scalpmap` provided in the `bci_minitoolbox`)."
   ]
  },
  {
   "cell_type": "code",
   "execution_count": null,
   "metadata": {
    "scrolled": false
   },
   "outputs": [],
   "source": []
  }
 ],
 "metadata": {
  "anaconda-cloud": {},
  "kernelspec": {
   "display_name": "Python 3",
   "language": "python",
   "name": "python3"
  },
  "language_info": {
   "codemirror_mode": {
    "name": "ipython",
    "version": 3
   },
   "file_extension": ".py",
   "mimetype": "text/x-python",
   "name": "python",
   "nbconvert_exporter": "python",
   "pygments_lexer": "ipython3",
   "version": "3.7.0"
  }
 },
 "nbformat": 4,
 "nbformat_minor": 1
}
